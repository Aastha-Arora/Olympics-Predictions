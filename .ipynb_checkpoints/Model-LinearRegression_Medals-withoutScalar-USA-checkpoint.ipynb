{
 "cells": [
  {
   "cell_type": "markdown",
   "metadata": {},
   "source": [
    "Note: Machine Learning - Linear Regression - Currently Training for Total"
   ]
  },
  {
   "cell_type": "code",
   "execution_count": 4,
   "metadata": {},
   "outputs": [],
   "source": [
    "import pandas as pd\n"
   ]
  },
  {
   "cell_type": "markdown",
   "metadata": {},
   "source": [
    "# Data Pre-Processing"
   ]
  },
  {
   "cell_type": "code",
   "execution_count": 5,
   "metadata": {},
   "outputs": [],
   "source": [
    "# Load Data \n",
    "\n",
    "df = pd.read_csv('Resources/summer_athlete_medals_count.csv')\n",
    "\n",
    "# df.head(3)"
   ]
  },
  {
   "cell_type": "code",
   "execution_count": 6,
   "metadata": {},
   "outputs": [],
   "source": [
    "# Filter for country: USA\n",
    "\n",
    "country_df = df[df['Country'] == 'USA']\n",
    "# country_df.head(3)"
   ]
  },
  {
   "cell_type": "code",
   "execution_count": 7,
   "metadata": {},
   "outputs": [],
   "source": [
    "#  Ceate test data\n",
    "test_data = country_df[country_df['Year'] > 1988]\n",
    "test_data = pd.DataFrame(test_data)\n",
    "\n",
    "# Dropping Total Medal count to prep for predictions\n",
    "# test_data = test_data.drop([\"Total_Medals\",\"Gold\",\"Silver\",\"Bronze\"], axis=1)\n",
    "# test_data = test_data.drop([\"Medals\"], axis=1)\n",
    "\n",
    "\n",
    "# Adding 2020 to prep for future prediction after hyperparameter tuning and training\n",
    "new_row = pd.Series(data={'Year':2020, 'Country':'USA', 'Athletes':0, \n",
    "                          'Host':0, 'Sports':0, 'Events':0, 'Gold':0,'Silver':0, 'Bronze':0}, name='0')\n",
    "test_data = test_data.append(new_row, ignore_index=False)\n",
    "# test_data\n",
    "\n",
    "#  Save into a csv file\n",
    "test_data.to_csv('Resources/test.csv', index=False)"
   ]
  },
  {
   "cell_type": "code",
   "execution_count": 8,
   "metadata": {},
   "outputs": [],
   "source": [
    "#  Create train data\n",
    "train_data = country_df[country_df['Year'] <= 1988]\n",
    "train_data = pd.DataFrame(train_data)\n",
    "# train_data\n",
    "#  Save into a csv file\n",
    "train_data.to_csv('Resources/train.csv', index=False)"
   ]
  },
  {
   "cell_type": "code",
   "execution_count": 9,
   "metadata": {},
   "outputs": [
    {
     "data": {
      "text/plain": [
       "Index(['Year', 'Host', 'Athletes', 'Sports', 'Events', 'Gold', 'Silver',\n",
       "       'Bronze', 'Medals'],\n",
       "      dtype='object')"
      ]
     },
     "execution_count": 9,
     "metadata": {},
     "output_type": "execute_result"
    }
   ],
   "source": [
    "#  View what columns actually exist\n",
    "train_data.describe().columns"
   ]
  },
  {
   "cell_type": "code",
   "execution_count": 10,
   "metadata": {},
   "outputs": [],
   "source": [
    "# Assign X and y for test and training data\n",
    "y_train = train_data[\"Medals\"]\n",
    "X_train_features = train_data[['Year', 'Host', 'Athletes', 'Sports', 'Events']]\n",
    "X_train = X_train_features.values\n",
    "\n",
    "\n",
    "X_test_features = test_data[['Year', 'Host', 'Athletes', 'Sports', 'Events']]\n",
    "X_test = X_test_features.values\n"
   ]
  },
  {
   "cell_type": "code",
   "execution_count": 11,
   "metadata": {},
   "outputs": [],
   "source": [
    "# # Transform the training and testing data using the X_scaler\n",
    "\n",
    "# from sklearn.preprocessing import StandardScaler\n",
    "# X_scaler = StandardScaler().fit(X_train)\n",
    "\n",
    "\n",
    "# X_train_scaled = X_scaler.transform(X_train)\n",
    "# X_test_scaled = X_scaler.transform(X_test)\n",
    "# X_test_features_scaled = X_scaler.transform(X_train_features)\n",
    "\n"
   ]
  },
  {
   "cell_type": "markdown",
   "metadata": {},
   "source": [
    "# Create and Train(Fit) Model"
   ]
  },
  {
   "cell_type": "code",
   "execution_count": 12,
   "metadata": {},
   "outputs": [
    {
     "data": {
      "text/plain": [
       "LinearRegression(copy_X=True, fit_intercept=True, n_jobs=None, normalize=False)"
      ]
     },
     "execution_count": 12,
     "metadata": {},
     "output_type": "execute_result"
    }
   ],
   "source": [
    " # Create a LinearRegression model and fit it to the training data\n",
    "\n",
    "from sklearn.linear_model import LinearRegression\n",
    "model = LinearRegression()\n",
    "model.fit(X_train, y_train)"
   ]
  },
  {
   "cell_type": "code",
   "execution_count": 13,
   "metadata": {},
   "outputs": [
    {
     "name": "stdout",
     "output_type": "stream",
     "text": [
      "Training Data Score: 0.8097440218000025\n"
     ]
    }
   ],
   "source": [
    "print(f\"Training Data Score: {model.score(X_train, y_train)}\")\n"
   ]
  },
  {
   "cell_type": "markdown",
   "metadata": {},
   "source": [
    "# Hyperparameter Tuning - Ordinary Least Squares"
   ]
  },
  {
   "cell_type": "code",
   "execution_count": 14,
   "metadata": {},
   "outputs": [],
   "source": [
    "# Source Link: https://www.datarobot.com/blog/ordinary-least-squares-in-python/\n",
    "# Source Link: https://heartbeat.fritz.ai/implementing-ordinary-least-squares-ols-using-statsmodels-in-python-b1f4dee09419\n",
    "\n",
    "\n",
    "import statsmodels.api as sm\n",
    "import numpy as np\n",
    "\n",
    "ols = sm.OLS(y_train, X_train_features).fit()\n"
   ]
  },
  {
   "cell_type": "code",
   "execution_count": 15,
   "metadata": {},
   "outputs": [
    {
     "name": "stdout",
     "output_type": "stream",
     "text": [
      "                                 OLS Regression Results                                \n",
      "=======================================================================================\n",
      "Dep. Variable:                 Medals   R-squared (uncentered):                   0.953\n",
      "Model:                            OLS   Adj. R-squared (uncentered):              0.939\n",
      "Method:                 Least Squares   F-statistic:                              65.60\n",
      "Date:                Sat, 01 Aug 2020   Prob (F-statistic):                    4.34e-10\n",
      "Time:                        05:28:59   Log-Likelihood:                         -93.749\n",
      "No. Observations:                  21   AIC:                                      197.5\n",
      "Df Residuals:                      16   BIC:                                      202.7\n",
      "Df Model:                           5                                                  \n",
      "Covariance Type:            nonrobust                                                  \n",
      "==============================================================================\n",
      "                 coef    std err          t      P>|t|      [0.025      0.975]\n",
      "------------------------------------------------------------------------------\n",
      "Year           0.0118      0.010      1.154      0.265      -0.010       0.033\n",
      "Host          50.2998     27.891      1.803      0.090      -8.826     109.425\n",
      "Athletes       0.2106      0.145      1.450      0.166      -0.097       0.518\n",
      "Sports         1.3392      3.400      0.394      0.699      -5.868       8.546\n",
      "Events        -0.2466      0.250     -0.986      0.339      -0.777       0.284\n",
      "==============================================================================\n",
      "Omnibus:                        4.736   Durbin-Watson:                   1.176\n",
      "Prob(Omnibus):                  0.094   Jarque-Bera (JB):                2.618\n",
      "Skew:                          -0.617   Prob(JB):                        0.270\n",
      "Kurtosis:                       4.213   Cond. No.                     1.05e+04\n",
      "==============================================================================\n",
      "\n",
      "Warnings:\n",
      "[1] Standard Errors assume that the covariance matrix of the errors is correctly specified.\n",
      "[2] The condition number is large, 1.05e+04. This might indicate that there are\n",
      "strong multicollinearity or other numerical problems.\n"
     ]
    }
   ],
   "source": [
    "model_details = ols.summary()\n",
    "print(model_details)"
   ]
  },
  {
   "cell_type": "code",
   "execution_count": null,
   "metadata": {},
   "outputs": [],
   "source": []
  },
  {
   "cell_type": "markdown",
   "metadata": {},
   "source": [
    "# Make Predictions"
   ]
  },
  {
   "cell_type": "code",
   "execution_count": 18,
   "metadata": {},
   "outputs": [],
   "source": [
    "# # Make predictions with model\n",
    "# predictions = model.predict(X_test_scaled)\n",
    "\n",
    "# Make predictions with the hypertuned model\n",
    "predictions = ols.predict(X_test)"
   ]
  },
  {
   "cell_type": "code",
   "execution_count": 19,
   "metadata": {},
   "outputs": [],
   "source": [
    "# predictions"
   ]
  },
  {
   "cell_type": "code",
   "execution_count": 20,
   "metadata": {},
   "outputs": [
    {
     "data": {
      "text/html": [
       "<div>\n",
       "<style scoped>\n",
       "    .dataframe tbody tr th:only-of-type {\n",
       "        vertical-align: middle;\n",
       "    }\n",
       "\n",
       "    .dataframe tbody tr th {\n",
       "        vertical-align: top;\n",
       "    }\n",
       "\n",
       "    .dataframe thead th {\n",
       "        text-align: right;\n",
       "    }\n",
       "</style>\n",
       "<table border=\"1\" class=\"dataframe\">\n",
       "  <thead>\n",
       "    <tr style=\"text-align: right;\">\n",
       "      <th></th>\n",
       "      <th>Year</th>\n",
       "      <th>Total_Medals_Predictions</th>\n",
       "    </tr>\n",
       "  </thead>\n",
       "  <tbody>\n",
       "    <tr>\n",
       "      <td>1415</td>\n",
       "      <td>1992</td>\n",
       "      <td>114.621085</td>\n",
       "    </tr>\n",
       "    <tr>\n",
       "      <td>1582</td>\n",
       "      <td>1996</td>\n",
       "      <td>186.978359</td>\n",
       "    </tr>\n",
       "    <tr>\n",
       "      <td>1778</td>\n",
       "      <td>2000</td>\n",
       "      <td>123.175725</td>\n",
       "    </tr>\n",
       "    <tr>\n",
       "      <td>1977</td>\n",
       "      <td>2004</td>\n",
       "      <td>114.773688</td>\n",
       "    </tr>\n",
       "    <tr>\n",
       "      <td>2177</td>\n",
       "      <td>2008</td>\n",
       "      <td>126.756469</td>\n",
       "    </tr>\n",
       "    <tr>\n",
       "      <td>2380</td>\n",
       "      <td>2012</td>\n",
       "      <td>116.244810</td>\n",
       "    </tr>\n",
       "    <tr>\n",
       "      <td>2584</td>\n",
       "      <td>2016</td>\n",
       "      <td>124.445836</td>\n",
       "    </tr>\n",
       "    <tr>\n",
       "      <td>0</td>\n",
       "      <td>2020</td>\n",
       "      <td>23.829327</td>\n",
       "    </tr>\n",
       "  </tbody>\n",
       "</table>\n",
       "</div>"
      ],
      "text/plain": [
       "      Year  Total_Medals_Predictions\n",
       "1415  1992                114.621085\n",
       "1582  1996                186.978359\n",
       "1778  2000                123.175725\n",
       "1977  2004                114.773688\n",
       "2177  2008                126.756469\n",
       "2380  2012                116.244810\n",
       "2584  2016                124.445836\n",
       "0     2020                 23.829327"
      ]
     },
     "execution_count": 20,
     "metadata": {},
     "output_type": "execute_result"
    }
   ],
   "source": [
    "# Predicting - currently looking at 1988 only - displaying all years for prepping future predictions\n",
    "\n",
    "output = pd.DataFrame({'Year': test_data.Year, 'Total_Medals_Predictions': predictions})\n",
    "output"
   ]
  },
  {
   "cell_type": "code",
   "execution_count": 22,
   "metadata": {},
   "outputs": [
    {
     "data": {
      "text/html": [
       "<div>\n",
       "<style scoped>\n",
       "    .dataframe tbody tr th:only-of-type {\n",
       "        vertical-align: middle;\n",
       "    }\n",
       "\n",
       "    .dataframe tbody tr th {\n",
       "        vertical-align: top;\n",
       "    }\n",
       "\n",
       "    .dataframe thead th {\n",
       "        text-align: right;\n",
       "    }\n",
       "</style>\n",
       "<table border=\"1\" class=\"dataframe\">\n",
       "  <thead>\n",
       "    <tr style=\"text-align: right;\">\n",
       "      <th></th>\n",
       "      <th>Year</th>\n",
       "      <th>Total_Medals_Predictions</th>\n",
       "      <th>Actual</th>\n",
       "    </tr>\n",
       "  </thead>\n",
       "  <tbody>\n",
       "    <tr>\n",
       "      <td>1415</td>\n",
       "      <td>1992</td>\n",
       "      <td>114.621085</td>\n",
       "      <td>108</td>\n",
       "    </tr>\n",
       "    <tr>\n",
       "      <td>1582</td>\n",
       "      <td>1996</td>\n",
       "      <td>186.978359</td>\n",
       "      <td>101</td>\n",
       "    </tr>\n",
       "    <tr>\n",
       "      <td>1778</td>\n",
       "      <td>2000</td>\n",
       "      <td>123.175725</td>\n",
       "      <td>91</td>\n",
       "    </tr>\n",
       "    <tr>\n",
       "      <td>1977</td>\n",
       "      <td>2004</td>\n",
       "      <td>114.773688</td>\n",
       "      <td>101</td>\n",
       "    </tr>\n",
       "    <tr>\n",
       "      <td>2177</td>\n",
       "      <td>2008</td>\n",
       "      <td>126.756469</td>\n",
       "      <td>110</td>\n",
       "    </tr>\n",
       "    <tr>\n",
       "      <td>2380</td>\n",
       "      <td>2012</td>\n",
       "      <td>116.244810</td>\n",
       "      <td>103</td>\n",
       "    </tr>\n",
       "    <tr>\n",
       "      <td>2584</td>\n",
       "      <td>2016</td>\n",
       "      <td>124.445836</td>\n",
       "      <td>121</td>\n",
       "    </tr>\n",
       "    <tr>\n",
       "      <td>0</td>\n",
       "      <td>2020</td>\n",
       "      <td>23.829327</td>\n",
       "      <td>0</td>\n",
       "    </tr>\n",
       "  </tbody>\n",
       "</table>\n",
       "</div>"
      ],
      "text/plain": [
       "      Year  Total_Medals_Predictions  Actual\n",
       "1415  1992                114.621085     108\n",
       "1582  1996                186.978359     101\n",
       "1778  2000                123.175725      91\n",
       "1977  2004                114.773688     101\n",
       "2177  2008                126.756469     110\n",
       "2380  2012                116.244810     103\n",
       "2584  2016                124.445836     121\n",
       "0     2020                 23.829327       0"
      ]
     },
     "execution_count": 22,
     "metadata": {},
     "output_type": "execute_result"
    }
   ],
   "source": [
    "#  Creating actua column\n",
    "actual_data = [108, 101,  91, 101, 110,103, 121, 0]\n",
    "\n",
    "output['Actual'] = actual_data\n",
    "output"
   ]
  },
  {
   "cell_type": "code",
   "execution_count": null,
   "metadata": {},
   "outputs": [],
   "source": []
  },
  {
   "cell_type": "code",
   "execution_count": 23,
   "metadata": {},
   "outputs": [
    {
     "data": {
      "text/html": [
       "<div>\n",
       "<style scoped>\n",
       "    .dataframe tbody tr th:only-of-type {\n",
       "        vertical-align: middle;\n",
       "    }\n",
       "\n",
       "    .dataframe tbody tr th {\n",
       "        vertical-align: top;\n",
       "    }\n",
       "\n",
       "    .dataframe thead th {\n",
       "        text-align: right;\n",
       "    }\n",
       "</style>\n",
       "<table border=\"1\" class=\"dataframe\">\n",
       "  <thead>\n",
       "    <tr style=\"text-align: right;\">\n",
       "      <th></th>\n",
       "      <th>Year</th>\n",
       "      <th>Total_Medals_Predictions</th>\n",
       "      <th>Actual</th>\n",
       "      <th>Error</th>\n",
       "    </tr>\n",
       "  </thead>\n",
       "  <tbody>\n",
       "    <tr>\n",
       "      <td>1415</td>\n",
       "      <td>1992</td>\n",
       "      <td>114.621085</td>\n",
       "      <td>108</td>\n",
       "      <td>6.621085</td>\n",
       "    </tr>\n",
       "    <tr>\n",
       "      <td>1582</td>\n",
       "      <td>1996</td>\n",
       "      <td>186.978359</td>\n",
       "      <td>101</td>\n",
       "      <td>85.978359</td>\n",
       "    </tr>\n",
       "    <tr>\n",
       "      <td>1778</td>\n",
       "      <td>2000</td>\n",
       "      <td>123.175725</td>\n",
       "      <td>91</td>\n",
       "      <td>32.175725</td>\n",
       "    </tr>\n",
       "    <tr>\n",
       "      <td>1977</td>\n",
       "      <td>2004</td>\n",
       "      <td>114.773688</td>\n",
       "      <td>101</td>\n",
       "      <td>13.773688</td>\n",
       "    </tr>\n",
       "    <tr>\n",
       "      <td>2177</td>\n",
       "      <td>2008</td>\n",
       "      <td>126.756469</td>\n",
       "      <td>110</td>\n",
       "      <td>16.756469</td>\n",
       "    </tr>\n",
       "    <tr>\n",
       "      <td>2380</td>\n",
       "      <td>2012</td>\n",
       "      <td>116.244810</td>\n",
       "      <td>103</td>\n",
       "      <td>13.244810</td>\n",
       "    </tr>\n",
       "    <tr>\n",
       "      <td>2584</td>\n",
       "      <td>2016</td>\n",
       "      <td>124.445836</td>\n",
       "      <td>121</td>\n",
       "      <td>3.445836</td>\n",
       "    </tr>\n",
       "    <tr>\n",
       "      <td>0</td>\n",
       "      <td>2020</td>\n",
       "      <td>23.829327</td>\n",
       "      <td>0</td>\n",
       "      <td>23.829327</td>\n",
       "    </tr>\n",
       "  </tbody>\n",
       "</table>\n",
       "</div>"
      ],
      "text/plain": [
       "      Year  Total_Medals_Predictions  Actual      Error\n",
       "1415  1992                114.621085     108   6.621085\n",
       "1582  1996                186.978359     101  85.978359\n",
       "1778  2000                123.175725      91  32.175725\n",
       "1977  2004                114.773688     101  13.773688\n",
       "2177  2008                126.756469     110  16.756469\n",
       "2380  2012                116.244810     103  13.244810\n",
       "2584  2016                124.445836     121   3.445836\n",
       "0     2020                 23.829327       0  23.829327"
      ]
     },
     "execution_count": 23,
     "metadata": {},
     "output_type": "execute_result"
    }
   ],
   "source": [
    "#  Numbers for 1988 - predicting 1992\n",
    "error_data = output.Total_Medals_Predictions.values - output.Actual.values\n",
    "output['Error'] = error_data\n",
    "output_1988 = output\n",
    "output_1988\n",
    "\n",
    "# Accuracy before OLS: 0.809\n",
    "# Accurcy after OLS: 0.953"
   ]
  },
  {
   "cell_type": "code",
   "execution_count": 60,
   "metadata": {},
   "outputs": [
    {
     "data": {
      "text/html": [
       "<div>\n",
       "<style scoped>\n",
       "    .dataframe tbody tr th:only-of-type {\n",
       "        vertical-align: middle;\n",
       "    }\n",
       "\n",
       "    .dataframe tbody tr th {\n",
       "        vertical-align: top;\n",
       "    }\n",
       "\n",
       "    .dataframe thead th {\n",
       "        text-align: right;\n",
       "    }\n",
       "</style>\n",
       "<table border=\"1\" class=\"dataframe\">\n",
       "  <thead>\n",
       "    <tr style=\"text-align: right;\">\n",
       "      <th></th>\n",
       "      <th>Year</th>\n",
       "      <th>Total_Medals_Predictions</th>\n",
       "      <th>Actual</th>\n",
       "      <th>Error</th>\n",
       "    </tr>\n",
       "  </thead>\n",
       "  <tbody>\n",
       "    <tr>\n",
       "      <td>0</td>\n",
       "      <td>1996</td>\n",
       "      <td>186.107160</td>\n",
       "      <td>101</td>\n",
       "      <td>85.107160</td>\n",
       "    </tr>\n",
       "    <tr>\n",
       "      <td>1</td>\n",
       "      <td>2000</td>\n",
       "      <td>121.450976</td>\n",
       "      <td>91</td>\n",
       "      <td>30.450976</td>\n",
       "    </tr>\n",
       "    <tr>\n",
       "      <td>2</td>\n",
       "      <td>2004</td>\n",
       "      <td>113.279343</td>\n",
       "      <td>101</td>\n",
       "      <td>12.279343</td>\n",
       "    </tr>\n",
       "    <tr>\n",
       "      <td>3</td>\n",
       "      <td>2008</td>\n",
       "      <td>125.108816</td>\n",
       "      <td>110</td>\n",
       "      <td>15.108816</td>\n",
       "    </tr>\n",
       "    <tr>\n",
       "      <td>4</td>\n",
       "      <td>2012</td>\n",
       "      <td>114.828185</td>\n",
       "      <td>103</td>\n",
       "      <td>11.828185</td>\n",
       "    </tr>\n",
       "    <tr>\n",
       "      <td>5</td>\n",
       "      <td>2016</td>\n",
       "      <td>123.017476</td>\n",
       "      <td>121</td>\n",
       "      <td>2.017476</td>\n",
       "    </tr>\n",
       "    <tr>\n",
       "      <td>6</td>\n",
       "      <td>2020</td>\n",
       "      <td>24.695970</td>\n",
       "      <td>0</td>\n",
       "      <td>24.695970</td>\n",
       "    </tr>\n",
       "  </tbody>\n",
       "</table>\n",
       "</div>"
      ],
      "text/plain": [
       "   Year  Total_Medals_Predictions  Actual      Error\n",
       "0  1996                186.107160     101  85.107160\n",
       "1  2000                121.450976      91  30.450976\n",
       "2  2004                113.279343     101  12.279343\n",
       "3  2008                125.108816     110  15.108816\n",
       "4  2012                114.828185     103  11.828185\n",
       "5  2016                123.017476     121   2.017476\n",
       "6  2020                 24.695970       0  24.695970"
      ]
     },
     "execution_count": 60,
     "metadata": {},
     "output_type": "execute_result"
    }
   ],
   "source": [
    "# #  Numbers for 1992 - predicting 1996\n",
    "# error_data = output.Total_Medals_Predictions.values - output.Actual.values\n",
    "# output['Error'] = error_data\n",
    "# output_1996 = output\n",
    "# output_1996\n",
    "\n",
    "# # Accuracy before OLS: 0.804\n",
    "# # Accurcy after OLS:  0.956"
   ]
  },
  {
   "cell_type": "code",
   "execution_count": 15,
   "metadata": {},
   "outputs": [
    {
     "data": {
      "text/html": [
       "<div>\n",
       "<style scoped>\n",
       "    .dataframe tbody tr th:only-of-type {\n",
       "        vertical-align: middle;\n",
       "    }\n",
       "\n",
       "    .dataframe tbody tr th {\n",
       "        vertical-align: top;\n",
       "    }\n",
       "\n",
       "    .dataframe thead th {\n",
       "        text-align: right;\n",
       "    }\n",
       "</style>\n",
       "<table border=\"1\" class=\"dataframe\">\n",
       "  <thead>\n",
       "    <tr style=\"text-align: right;\">\n",
       "      <th></th>\n",
       "      <th>Year</th>\n",
       "      <th>Total_Medals_Predictions</th>\n",
       "      <th>Actual</th>\n",
       "      <th>Error</th>\n",
       "    </tr>\n",
       "  </thead>\n",
       "  <tbody>\n",
       "    <tr>\n",
       "      <td>0</td>\n",
       "      <td>2000</td>\n",
       "      <td>111.430139</td>\n",
       "      <td>91</td>\n",
       "      <td>20.430139</td>\n",
       "    </tr>\n",
       "    <tr>\n",
       "      <td>1</td>\n",
       "      <td>2004</td>\n",
       "      <td>96.189596</td>\n",
       "      <td>101</td>\n",
       "      <td>-4.810404</td>\n",
       "    </tr>\n",
       "    <tr>\n",
       "      <td>2</td>\n",
       "      <td>2008</td>\n",
       "      <td>113.718964</td>\n",
       "      <td>110</td>\n",
       "      <td>3.718964</td>\n",
       "    </tr>\n",
       "    <tr>\n",
       "      <td>3</td>\n",
       "      <td>2012</td>\n",
       "      <td>98.448751</td>\n",
       "      <td>103</td>\n",
       "      <td>-4.551249</td>\n",
       "    </tr>\n",
       "    <tr>\n",
       "      <td>4</td>\n",
       "      <td>2016</td>\n",
       "      <td>105.384901</td>\n",
       "      <td>121</td>\n",
       "      <td>-15.615099</td>\n",
       "    </tr>\n",
       "    <tr>\n",
       "      <td>5</td>\n",
       "      <td>2020</td>\n",
       "      <td>42.937650</td>\n",
       "      <td>0</td>\n",
       "      <td>42.937650</td>\n",
       "    </tr>\n",
       "  </tbody>\n",
       "</table>\n",
       "</div>"
      ],
      "text/plain": [
       "   Year  Total_Medals_Predictions  Actual      Error\n",
       "0  2000                111.430139      91  20.430139\n",
       "1  2004                 96.189596     101  -4.810404\n",
       "2  2008                113.718964     110   3.718964\n",
       "3  2012                 98.448751     103  -4.551249\n",
       "4  2016                105.384901     121 -15.615099\n",
       "5  2020                 42.937650       0  42.937650"
      ]
     },
     "execution_count": 15,
     "metadata": {},
     "output_type": "execute_result"
    }
   ],
   "source": [
    "# #  Numbers for 1996 - predicting 2000\n",
    "# error_data = output.Total_Medals_Predictions.values - output.Actual.values\n",
    "# output['Error'] = error_data\n",
    "# output_2000 = output\n",
    "# output_2000\n",
    "\n",
    "# # Accuracy before OLS: 0.809\n",
    "# # Accurcy after OLS: 0.953"
   ]
  },
  {
   "cell_type": "code",
   "execution_count": 30,
   "metadata": {},
   "outputs": [
    {
     "data": {
      "text/html": [
       "<div>\n",
       "<style scoped>\n",
       "    .dataframe tbody tr th:only-of-type {\n",
       "        vertical-align: middle;\n",
       "    }\n",
       "\n",
       "    .dataframe tbody tr th {\n",
       "        vertical-align: top;\n",
       "    }\n",
       "\n",
       "    .dataframe thead th {\n",
       "        text-align: right;\n",
       "    }\n",
       "</style>\n",
       "<table border=\"1\" class=\"dataframe\">\n",
       "  <thead>\n",
       "    <tr style=\"text-align: right;\">\n",
       "      <th></th>\n",
       "      <th>Year</th>\n",
       "      <th>Total_Medals_Predictions</th>\n",
       "      <th>Actual</th>\n",
       "      <th>Error</th>\n",
       "    </tr>\n",
       "  </thead>\n",
       "  <tbody>\n",
       "    <tr>\n",
       "      <td>0</td>\n",
       "      <td>2004</td>\n",
       "      <td>91.775925</td>\n",
       "      <td>101</td>\n",
       "      <td>-9.224075</td>\n",
       "    </tr>\n",
       "    <tr>\n",
       "      <td>1</td>\n",
       "      <td>2008</td>\n",
       "      <td>108.891171</td>\n",
       "      <td>110</td>\n",
       "      <td>-1.108829</td>\n",
       "    </tr>\n",
       "    <tr>\n",
       "      <td>2</td>\n",
       "      <td>2012</td>\n",
       "      <td>94.045177</td>\n",
       "      <td>103</td>\n",
       "      <td>-8.954823</td>\n",
       "    </tr>\n",
       "    <tr>\n",
       "      <td>3</td>\n",
       "      <td>2016</td>\n",
       "      <td>100.468488</td>\n",
       "      <td>121</td>\n",
       "      <td>-20.531512</td>\n",
       "    </tr>\n",
       "    <tr>\n",
       "      <td>4</td>\n",
       "      <td>2020</td>\n",
       "      <td>46.562219</td>\n",
       "      <td>0</td>\n",
       "      <td>46.562219</td>\n",
       "    </tr>\n",
       "  </tbody>\n",
       "</table>\n",
       "</div>"
      ],
      "text/plain": [
       "   Year  Total_Medals_Predictions  Actual      Error\n",
       "0  2004                 91.775925     101  -9.224075\n",
       "1  2008                108.891171     110  -1.108829\n",
       "2  2012                 94.045177     103  -8.954823\n",
       "3  2016                100.468488     121 -20.531512\n",
       "4  2020                 46.562219       0  46.562219"
      ]
     },
     "execution_count": 30,
     "metadata": {},
     "output_type": "execute_result"
    }
   ],
   "source": [
    "# #  Numbers for 2000 - predicting 2004\n",
    "# error_data = output.Total_Medals_Predictions.values - output.Actual.values\n",
    "# output['Error'] = error_data\n",
    "# output_2004 = output\n",
    "# output_2004\n",
    "\n",
    "# # Accuracy before OLS: 0.695\n",
    "# # Accurcy after OLS: 0.941"
   ]
  },
  {
   "cell_type": "code",
   "execution_count": 45,
   "metadata": {},
   "outputs": [
    {
     "data": {
      "text/html": [
       "<div>\n",
       "<style scoped>\n",
       "    .dataframe tbody tr th:only-of-type {\n",
       "        vertical-align: middle;\n",
       "    }\n",
       "\n",
       "    .dataframe tbody tr th {\n",
       "        vertical-align: top;\n",
       "    }\n",
       "\n",
       "    .dataframe thead th {\n",
       "        text-align: right;\n",
       "    }\n",
       "</style>\n",
       "<table border=\"1\" class=\"dataframe\">\n",
       "  <thead>\n",
       "    <tr style=\"text-align: right;\">\n",
       "      <th></th>\n",
       "      <th>Year</th>\n",
       "      <th>Total_Medals_Predictions</th>\n",
       "      <th>Actual</th>\n",
       "      <th>Error</th>\n",
       "    </tr>\n",
       "  </thead>\n",
       "  <tbody>\n",
       "    <tr>\n",
       "      <td>0</td>\n",
       "      <td>2008</td>\n",
       "      <td>110.751167</td>\n",
       "      <td>110</td>\n",
       "      <td>0.751167</td>\n",
       "    </tr>\n",
       "    <tr>\n",
       "      <td>1</td>\n",
       "      <td>2012</td>\n",
       "      <td>96.149736</td>\n",
       "      <td>103</td>\n",
       "      <td>-6.850264</td>\n",
       "    </tr>\n",
       "    <tr>\n",
       "      <td>2</td>\n",
       "      <td>2016</td>\n",
       "      <td>102.961367</td>\n",
       "      <td>121</td>\n",
       "      <td>-18.038633</td>\n",
       "    </tr>\n",
       "    <tr>\n",
       "      <td>3</td>\n",
       "      <td>2020</td>\n",
       "      <td>44.571660</td>\n",
       "      <td>0</td>\n",
       "      <td>44.571660</td>\n",
       "    </tr>\n",
       "  </tbody>\n",
       "</table>\n",
       "</div>"
      ],
      "text/plain": [
       "   Year  Total_Medals_Predictions  Actual      Error\n",
       "0  2008                110.751167     110   0.751167\n",
       "1  2012                 96.149736     103  -6.850264\n",
       "2  2016                102.961367     121 -18.038633\n",
       "3  2020                 44.571660       0  44.571660"
      ]
     },
     "execution_count": 45,
     "metadata": {},
     "output_type": "execute_result"
    }
   ],
   "source": [
    "# #  Numbers for 2004 - predicting 2008\n",
    "# error_data = output.Total_Medals_Predictions.values - output.Actual.values\n",
    "# output['Error'] = error_data\n",
    "# output_2008 = output\n",
    "# output_2008\n",
    "\n",
    "# # Accuracy before OLS: 0.694\n",
    "# # Accurcy after OLS: 0.943"
   ]
  },
  {
   "cell_type": "code",
   "execution_count": 60,
   "metadata": {},
   "outputs": [
    {
     "data": {
      "text/html": [
       "<div>\n",
       "<style scoped>\n",
       "    .dataframe tbody tr th:only-of-type {\n",
       "        vertical-align: middle;\n",
       "    }\n",
       "\n",
       "    .dataframe tbody tr th {\n",
       "        vertical-align: top;\n",
       "    }\n",
       "\n",
       "    .dataframe thead th {\n",
       "        text-align: right;\n",
       "    }\n",
       "</style>\n",
       "<table border=\"1\" class=\"dataframe\">\n",
       "  <thead>\n",
       "    <tr style=\"text-align: right;\">\n",
       "      <th></th>\n",
       "      <th>Year</th>\n",
       "      <th>Total_Medals_Predictions</th>\n",
       "      <th>Actual</th>\n",
       "      <th>Error</th>\n",
       "    </tr>\n",
       "  </thead>\n",
       "  <tbody>\n",
       "    <tr>\n",
       "      <td>0</td>\n",
       "      <td>2012</td>\n",
       "      <td>96.018955</td>\n",
       "      <td>103</td>\n",
       "      <td>-6.981045</td>\n",
       "    </tr>\n",
       "    <tr>\n",
       "      <td>1</td>\n",
       "      <td>2016</td>\n",
       "      <td>102.800541</td>\n",
       "      <td>121</td>\n",
       "      <td>-18.199459</td>\n",
       "    </tr>\n",
       "    <tr>\n",
       "      <td>2</td>\n",
       "      <td>2020</td>\n",
       "      <td>44.703034</td>\n",
       "      <td>0</td>\n",
       "      <td>44.703034</td>\n",
       "    </tr>\n",
       "  </tbody>\n",
       "</table>\n",
       "</div>"
      ],
      "text/plain": [
       "   Year  Total_Medals_Predictions  Actual      Error\n",
       "0  2012                 96.018955     103  -6.981045\n",
       "1  2016                102.800541     121 -18.199459\n",
       "2  2020                 44.703034       0  44.703034"
      ]
     },
     "execution_count": 60,
     "metadata": {},
     "output_type": "execute_result"
    }
   ],
   "source": [
    "#  Numbers for 2008 - predicting 2012\n",
    "error_data = output.Total_Medals_Predictions.values - output.Actual.values\n",
    "output['Error'] = error_data\n",
    "output_2012 = output\n",
    "output_2012\n",
    "\n",
    "# Accuracy before OLS: 0.697\n",
    "# Accurcy after OLS: 0.946"
   ]
  },
  {
   "cell_type": "code",
   "execution_count": 92,
   "metadata": {},
   "outputs": [
    {
     "data": {
      "text/html": [
       "<div>\n",
       "<style scoped>\n",
       "    .dataframe tbody tr th:only-of-type {\n",
       "        vertical-align: middle;\n",
       "    }\n",
       "\n",
       "    .dataframe tbody tr th {\n",
       "        vertical-align: top;\n",
       "    }\n",
       "\n",
       "    .dataframe thead th {\n",
       "        text-align: right;\n",
       "    }\n",
       "</style>\n",
       "<table border=\"1\" class=\"dataframe\">\n",
       "  <thead>\n",
       "    <tr style=\"text-align: right;\">\n",
       "      <th></th>\n",
       "      <th>Year</th>\n",
       "      <th>Total_Medals_Predictions</th>\n",
       "      <th>Actual</th>\n",
       "      <th>Error</th>\n",
       "    </tr>\n",
       "  </thead>\n",
       "  <tbody>\n",
       "    <tr>\n",
       "      <td>0</td>\n",
       "      <td>2016</td>\n",
       "      <td>104.274455</td>\n",
       "      <td>121</td>\n",
       "      <td>-16.725545</td>\n",
       "    </tr>\n",
       "    <tr>\n",
       "      <td>1</td>\n",
       "      <td>2020</td>\n",
       "      <td>43.497433</td>\n",
       "      <td>0</td>\n",
       "      <td>43.497433</td>\n",
       "    </tr>\n",
       "  </tbody>\n",
       "</table>\n",
       "</div>"
      ],
      "text/plain": [
       "   Year  Total_Medals_Predictions  Actual      Error\n",
       "0  2016                104.274455     121 -16.725545\n",
       "1  2020                 43.497433       0  43.497433"
      ]
     },
     "execution_count": 92,
     "metadata": {},
     "output_type": "execute_result"
    }
   ],
   "source": [
    "#  Numbers for 2012 - predicting 2016\n",
    "error_data = output.Total_Medals_Predictions.values - output.Actual.values\n",
    "output['Error'] = error_data\n",
    "output_2016 = output\n",
    "output_2016\n",
    "\n",
    "# Accuracy before OLS: 0.697\n",
    "# Accurcy after OLS: 0.948"
   ]
  },
  {
   "cell_type": "code",
   "execution_count": null,
   "metadata": {},
   "outputs": [],
   "source": []
  }
 ],
 "metadata": {
  "kernelspec": {
   "display_name": "Python 3",
   "language": "python",
   "name": "python3"
  },
  "language_info": {
   "codemirror_mode": {
    "name": "ipython",
    "version": 3
   },
   "file_extension": ".py",
   "mimetype": "text/x-python",
   "name": "python",
   "nbconvert_exporter": "python",
   "pygments_lexer": "ipython3",
   "version": "3.7.4"
  }
 },
 "nbformat": 4,
 "nbformat_minor": 4
}
